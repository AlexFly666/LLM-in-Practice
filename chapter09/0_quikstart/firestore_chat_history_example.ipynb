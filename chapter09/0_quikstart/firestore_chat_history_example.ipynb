{
 "cells": [
  {
   "cell_type": "code",
   "execution_count": null,
   "id": "initial_id",
   "metadata": {
    "collapsed": true
   },
   "outputs": [],
   "source": [
    "# 库安装命令 (请在终端中运行以下命令):\n",
    "# pip install google-cloud-firestore \\\n",
    "#     langchain-google-firestore \\\n",
    "#     langchain-openai \\\n",
    "#     openai"
   ]
  },
  {
   "metadata": {},
   "cell_type": "code",
   "outputs": [],
   "execution_count": null,
   "source": [
    "# 导入 Firestore 客户端库\n",
    "from google.cloud import firestore\n",
    "# 导入 Langchain Firestore Chat 消息历史记录类\n",
    "from langchain_google_firestore import FirestoreChatMessageHistory\n",
    "# 导入 Langchain OpenAI Chat 模型\n",
    "from langchain_openai import ChatOpenAI"
   ],
   "id": "43d16be1a8a47b14"
  },
  {
   "metadata": {},
   "cell_type": "code",
   "outputs": [],
   "execution_count": null,
   "source": [
    "\"\"\"\n",
    "步骤来复现这个例子:\n",
    "1. 创建一个 Firebase 账户\n",
    "2. 创建一个新的 Firebase 项目\n",
    "    - 复制项目 ID\n",
    "3. 在 Firebase 项目中创建一个 Firestore 数据库\n",
    "4. 在你的电脑上安装 Google Cloud CLI\n",
    "    - https://cloud.google.com/sdk/docs/install\n",
    "    - 使用你的 Google 账户验证 Google Cloud CLI\n",
    "        - https://cloud.google.com/docs/authentication/provide-credentials-adc#local-dev\n",
    "    - 将你的默认项目设置为你创建的新 Firebase 项目\n",
    "5. 在 Google Cloud 控制台中启用 Firestore API:\n",
    "    - https://console.cloud.google.com/apis/enableflow?apiid=firestore.googleapis.com&project=crewai-automation\n",
    "\"\"\""
   ],
   "id": "2aff715943f57dbf"
  },
  {
   "metadata": {},
   "cell_type": "code",
   "outputs": [],
   "execution_count": null,
   "source": [
    "# 设置 Firebase Firestore 项目 ID\n",
    "PROJECT_ID = \"langchain-demo-abf48\"\n",
    "# 设置会话 ID, 用于区分不同的用户或会话，这里使用 \"user_session_new\" 作为示例\n",
    "SESSION_ID = \"user_session_new\"  # This could be a username or a unique ID\n",
    "# 设置 Firestore 集合名称，用于存储聊天历史记录，这里使用 \"chat_history\" 作为示例\n",
    "COLLECTION_NAME = \"chat_history\"\n",
    "\n",
    "# 初始化 Firestore 客户端\n",
    "print(\"Initializing Firestore Client...\")\n",
    "# 创建 Firestore 客户端对象，需要传入项目 ID\n",
    "client = firestore.Client(project=PROJECT_ID)\n",
    "\n",
    "# 初始化 Firestore Chat 消息历史记录\n",
    "print(\"Initializing Firestore Chat Message History...\")\n",
    "# 创建 FirestoreChatMessageHistory 对象，用于管理聊天历史记录的存储和检索\n",
    "chat_history = FirestoreChatMessageHistory(\n",
    "    session_id=SESSION_ID, # 传入会话 ID，用于区分不同会话的数据\n",
    "    collection=COLLECTION_NAME, # 传入集合名称，指定数据存储在哪个集合中\n",
    "    client=client, # 传入 Firestore 客户端对象，用于与 Firestore 数据库交互\n",
    ")\n",
    "print(\"Chat History Initialized.\")\n",
    "# 打印当前的聊天历史记录，刚初始化时应该是空的\n",
    "print(\"Current Chat History:\", chat_history.messages)\n",
    "\n",
    "# 初始化 Chat 模型\n",
    "model = ChatOpenAI()\n",
    "print(\"Start chatting with the AI. Type 'exit' to quit.\")\n",
    "# 进入聊天循环\n",
    "while True:\n",
    "    # 获取用户输入\n",
    "    human_input = input(\"User: \")\n",
    "    # 如果用户输入 \"exit\"，则退出循环\n",
    "    if human_input.lower() == \"exit\":\n",
    "        break\n",
    "\n",
    "    # 将用户消息添加到聊天历史记录中\n",
    "    chat_history.add_user_message(human_input)\n",
    "\n",
    "    # 使用 Chat 模型处理聊天历史记录，并获取 AI 的回复\n",
    "    ai_response = model.invoke(chat_history.messages)\n",
    "    # 将 AI 的回复添加到聊天历史记录中\n",
    "    chat_history.add_ai_message(ai_response.content)\n",
    "\n",
    "    # 打印 AI 的回复\n",
    "    print(f\"AI: {ai_response.content}\")"
   ],
   "id": "4e954003f2f32558"
  }
 ],
 "metadata": {
  "kernelspec": {
   "display_name": "Python 3",
   "language": "python",
   "name": "python3"
  },
  "language_info": {
   "codemirror_mode": {
    "name": "ipython",
    "version": 2
   },
   "file_extension": ".py",
   "mimetype": "text/x-python",
   "name": "python",
   "nbconvert_exporter": "python",
   "pygments_lexer": "ipython2",
   "version": "2.7.6"
  }
 },
 "nbformat": 4,
 "nbformat_minor": 5
}
