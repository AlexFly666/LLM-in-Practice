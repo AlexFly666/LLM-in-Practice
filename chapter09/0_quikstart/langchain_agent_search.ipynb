{
 "cells": [
  {
   "cell_type": "code",
   "execution_count": null,
   "id": "initial_id",
   "metadata": {
    "collapsed": true
   },
   "outputs": [],
   "source": [
    "# LangChain V0.3版本\n",
    "!pip install langchain==0.3.18 \\\n",
    "    langchain-community==0.3.17 \\\n",
    "    langchain-core==0.3.34 \\\n",
    "    langchain-openai==0.3.4 \\\n",
    "    chromadb==0.6.3"
   ]
  },
  {
   "metadata": {},
   "cell_type": "code",
   "outputs": [],
   "execution_count": null,
   "source": [
    "# 导入相关的 LangChain 功能模块\n",
    "# 从 langchain_openai 库导入 ChatOpenAI 和 OpenAIEmbeddings，用于使用 OpenAI 的聊天模型和嵌入模型\n",
    "from langchain_openai import ChatOpenAI\n",
    "from langchain_community.tools.tavily_search import TavilySearchResults  # 导入 Tavily 搜索引擎工具\n",
    "from langchain_core.messages import HumanMessage  # 导入 HumanMessage 类型，用于表示用户输入\n",
    "from langgraph.checkpoint.memory import MemorySaver  # 导入 MemorySaver，用于内存存储对话历史\n",
    "from langgraph.prebuilt import create_react_agent  # 导入 create_react_agent 函数，用于创建 React Agent"
   ],
   "id": "45cb94e4b83b9b37"
  },
  {
   "metadata": {},
   "cell_type": "code",
   "outputs": [],
   "execution_count": null,
   "source": [
    "# 创建 Agent 的组件\n",
    "\n",
    "# 初始化内存存储器，用于保存对话历史 (可选，用于有状态 Agent)\n",
    "memory = MemorySaver()\n",
    "\n",
    "# Create a ChatOpenAI model\n",
    "# 智谱API调用(glm-4v-flash) - 使用 ChatOpenAI 替换 ChatAnthropic，并配置智谱 API\n",
    "model = ChatOpenAI(\n",
    "    api_key=\"XXXX\", # 替换为您的智谱 API 密钥  (请务必替换成您自己的 API 密钥)\n",
    "    base_url=\"https://open.bigmodel.cn/api/paas/v4/\", # 智谱 API Base URL\n",
    "    model=\"glm-4v-flash\" # 使用 glm-4v-flash 模型\n",
    ")\n",
    "\n",
    "# 初始化 Tavily 搜索引擎工具，设置最大搜索结果数为 2\n",
    "search = TavilySearchResults(max_results=2)\n",
    "# 将 Tavily 搜索引擎工具放入工具列表，Agent 可以使用这些工具\n",
    "tools = [search]\n",
    "\n",
    "# 使用 `create_react_agent` 函数创建 Agent 执行器\n",
    "# 该函数会自动将模型和工具绑定，并使用 ReAct 框架构建 Agent\n",
    "# checkpointer=memory 参数用于启用对话记忆功能\n",
    "agent_executor = create_react_agent(model, tools, checkpointer=memory)\n",
    "\n",
    "\n",
    "# ---  首次对话：打招呼并告知所在地 ---\n",
    "# 配置对话线程 ID，用于记忆功能，相同 thread_id 共享对话历史\n",
    "config = {\"configurable\": {\"thread_id\": \"abc123\"}}\n",
    "print(\"--- 首次对话 ---\")\n",
    "# 使用 stream 方法进行流式输出，逐步显示 Agent 的响应\n",
    "for chunk in agent_executor.stream(\n",
    "    # 构造用户输入消息 HumanMessage -  用户用中文打招呼，并告知住在北京\n",
    "    {\"messages\": [HumanMessage(content=\"你好！我是小明，我住在北京。\")]}, config\n",
    "):\n",
    "    # 打印每个 chunk 的输出，展示 Agent 的思考过程\n",
    "    print(chunk)\n",
    "    print(\"----\")\n",
    "\n",
    "\n",
    "# ---  第二次对话：询问天气 ---\n",
    "print(\"\\n--- 第二次对话 ---\")\n",
    "for chunk in agent_executor.stream(\n",
    "    # 再次使用相同的 thread_id，Agent 将记住之前的对话 -  用户用中文询问天气\n",
    "    {\"messages\": [HumanMessage(content=\"我住的地方天气怎么样？\")]}, config\n",
    "):\n",
    "    print(chunk)\n",
    "    print(\"----\")\n",
    "\n",
    "\n",
    "# ---  第三次对话： 询问名字 ---\n",
    "print(\"\\n--- 第三次对话 (验证记忆) ---\")\n",
    "for chunk in agent_executor.stream(\n",
    "    # 继续使用相同的 thread_id -  用户用中文询问名字\n",
    "    {\"messages\": [HumanMessage(content=\"请问我叫什么名字？\")]}, config\n",
    "):\n",
    "    print(chunk)\n",
    "    print(\"----\")\n",
    "\n",
    "\n",
    "# ---  新的对话：更换线程 ID，验证无记忆 ---\n",
    "# 使用新的 thread_id，开启新的对话\n",
    "config_new_thread = {\"configurable\": {\"thread_id\": \"xyz123\"}}\n",
    "print(\"\\n--- 新的对话 (无记忆) ---\")\n",
    "for chunk in agent_executor.stream(\n",
    "    # 用户在新对话线程中，用中文询问名字\n",
    "    {\"messages\": [HumanMessage(content=\"我叫什么名字？\")]}, config_new_thread\n",
    "):\n",
    "    print(chunk)\n",
    "    print(\"----\")\n",
    "\n",
    "\n",
    "print(\"\\n---  代码执行完成  ---\")"
   ],
   "id": "7adc49e0c73e9bf4"
  }
 ],
 "metadata": {
  "kernelspec": {
   "display_name": "Python 3",
   "language": "python",
   "name": "python3"
  },
  "language_info": {
   "codemirror_mode": {
    "name": "ipython",
    "version": 2
   },
   "file_extension": ".py",
   "mimetype": "text/x-python",
   "name": "python",
   "nbconvert_exporter": "python",
   "pygments_lexer": "ipython2",
   "version": "2.7.6"
  }
 },
 "nbformat": 4,
 "nbformat_minor": 5
}
