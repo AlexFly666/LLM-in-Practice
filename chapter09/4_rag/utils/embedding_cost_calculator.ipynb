{
 "cells": [
  {
   "metadata": {},
   "cell_type": "code",
   "outputs": [],
   "execution_count": null,
   "source": [
    "import os\n",
    "\n",
    "import tiktoken\n",
    "\n",
    "# Define the file path for the document\n",
    "file_path = os.path.join(os.path.dirname(__file__), \"..\", \"books\", \"odyssey.txt\")\n",
    "\n",
    "# Check if the file exists\n",
    "if not os.path.exists(file_path):\n",
    "    raise FileNotFoundError(\n",
    "        f\"The file {file_path} does not exist. Please check the path.\"\n",
    "    )\n",
    "\n",
    "# Read the content of the file\n",
    "with open(file_path, \"r\", encoding=\"utf-8\") as file:\n",
    "    text = file.read()\n",
    "\n",
    "tokenizer = tiktoken.get_encoding(\n",
    "    \"cl100k_base\"\n",
    ")  # Use the appropriate encoding for the model\n",
    "\n",
    "# Tokenize the text and count the tokens\n",
    "tokens = tokenizer.encode(text)\n",
    "total_tokens = len(tokens)\n",
    "\n",
    "# Calculate the cost based on OpenAI's pricing\n",
    "cost_per_million_tokens = 0.02  # $0.02 per million tokens\n",
    "cost = (total_tokens / 1_000_000) * cost_per_million_tokens\n",
    "\n",
    "# Print the results\n",
    "print(f\"Total number of tokens: {total_tokens}\")\n",
    "print(f\"Estimated cost for processing: ${cost:.6f}\")\n"
   ],
   "id": "ae15747f370ce4b6"
  }
 ],
 "metadata": {},
 "nbformat": 5,
 "nbformat_minor": 9
}
