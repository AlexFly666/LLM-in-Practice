{
 "cells": [
  {
   "metadata": {},
   "cell_type": "markdown",
   "source": [
    "# Prompt Template Docs:\n",
    "#   https://python.langchain.com/v0.2/docs/concepts/#prompt-templateshttps://python.langchain.com/v0.2/docs/concepts/#prompt-templates"
   ],
   "id": "d7846c4c30162a94"
  },
  {
   "metadata": {},
   "cell_type": "code",
   "outputs": [],
   "execution_count": null,
   "source": [
    "from langchain.prompts import ChatPromptTemplate\n",
    "from langchain_core.messages import HumanMessage"
   ],
   "id": "a00b80c9f9d95c9c"
  },
  {
   "metadata": {},
   "cell_type": "code",
   "outputs": [],
   "execution_count": null,
   "source": [
    "# # PART 1: Create a ChatPromptTemplate using a template string\n",
    "# template = \"Tell me a joke about {topic}.\"\n",
    "# prompt_template = ChatPromptTemplate.from_template(template)\n",
    "\n",
    "# print(\"-----Prompt from Template-----\")\n",
    "# prompt = prompt_template.invoke({\"topic\": \"cats\"})\n",
    "# print(prompt)\n",
    "\n",
    "# # PART 2: Prompt with Multiple Placeholders\n",
    "# template_multiple = \"\"\"You are a helpful assistant.\n",
    "# Human: Tell me a {adjective} story about a {animal}.\n",
    "# Assistant:\"\"\"\n",
    "# prompt_multiple = ChatPromptTemplate.from_template(template_multiple)\n",
    "# prompt = prompt_multiple.invoke({\"adjective\": \"funny\", \"animal\": \"panda\"})\n",
    "# print(\"\\n----- Prompt with Multiple Placeholders -----\\n\")\n",
    "# print(prompt)\n",
    "\n",
    "\n",
    "# PART 3: Prompt with System and Human Messages (Using Tuples)\n",
    "# messages = [\n",
    "#     (\"system\", \"You are a comedian who tells jokes about {topic}.\"),\n",
    "#     (\"human\", \"Tell me {joke_count} jokes.\"),\n",
    "# ]\n",
    "# prompt_template = ChatPromptTemplate.from_messages(messages)\n",
    "# prompt = prompt_template.invoke({\"topic\": \"lawyers\", \"joke_count\": 3})\n",
    "# print(\"\\n----- Prompt with System and Human Messages (Tuple) -----\\n\")\n",
    "# print(prompt)\n",
    "\n",
    "# # Extra Informoation about Part 3.\n",
    "# # This does work:\n",
    "# messages = [\n",
    "#     (\"system\", \"You are a comedian who tells jokes about {topic}.\"),\n",
    "#     HumanMessage(content=\"Tell me 3 jokes.\"),\n",
    "# ]\n",
    "# prompt_template = ChatPromptTemplate.from_messages(messages)\n",
    "# prompt = prompt_template.invoke({\"topic\": \"lawyers\"})\n",
    "# print(\"\\n----- Prompt with System and Human Messages (Tuple) -----\\n\")\n",
    "# print(prompt)\n",
    "\n",
    "\n",
    "# This does NOT work:\n",
    "messages = [\n",
    "    (\"system\", \"You are a comedian who tells jokes about {topic}.\"),\n",
    "    HumanMessage(content=\"Tell me {joke_count} jokes.\"),\n",
    "]\n",
    "prompt_template = ChatPromptTemplate.from_messages(messages)\n",
    "prompt = prompt_template.invoke({\"topic\": \"lawyers\", \"joke_count\": 3})\n",
    "print(\"\\n----- Prompt with System and Human Messages (Tuple) -----\\n\")\n",
    "print(prompt)\n"
   ],
   "id": "2b9396f1a3bd7e62"
  }
 ],
 "metadata": {},
 "nbformat": 5,
 "nbformat_minor": 9
}
