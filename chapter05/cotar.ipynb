{
  "cells": [
    {
      "cell_type": "markdown",
      "metadata": {
        "id": "view-in-github",
        "colab_type": "text"
      },
      "source": [
        "<a href=\"https://colab.research.google.com/github/AlexFly666/LLM-in-Practice/blob/main/chapter05/cotar.ipynb\" target=\"_parent\"><img src=\"https://colab.research.google.com/assets/colab-badge.svg\" alt=\"Open In Colab\"/></a>"
      ]
    },
    {
      "cell_type": "code",
      "execution_count": 1,
      "id": "initial_id",
      "metadata": {
        "collapsed": true,
        "id": "initial_id",
        "outputId": "a163ea1e-9ab1-4d48-a9c9-f3de6f5fdcec",
        "colab": {
          "base_uri": "https://localhost:8080/"
        }
      },
      "outputs": [
        {
          "output_type": "stream",
          "name": "stdout",
          "text": [
            "Requirement already satisfied: openai in /usr/local/lib/python3.11/dist-packages (1.59.9)\n",
            "Requirement already satisfied: anyio<5,>=3.5.0 in /usr/local/lib/python3.11/dist-packages (from openai) (3.7.1)\n",
            "Requirement already satisfied: distro<2,>=1.7.0 in /usr/local/lib/python3.11/dist-packages (from openai) (1.9.0)\n",
            "Requirement already satisfied: httpx<1,>=0.23.0 in /usr/local/lib/python3.11/dist-packages (from openai) (0.28.1)\n",
            "Requirement already satisfied: jiter<1,>=0.4.0 in /usr/local/lib/python3.11/dist-packages (from openai) (0.8.2)\n",
            "Requirement already satisfied: pydantic<3,>=1.9.0 in /usr/local/lib/python3.11/dist-packages (from openai) (2.10.5)\n",
            "Requirement already satisfied: sniffio in /usr/local/lib/python3.11/dist-packages (from openai) (1.3.1)\n",
            "Requirement already satisfied: tqdm>4 in /usr/local/lib/python3.11/dist-packages (from openai) (4.67.1)\n",
            "Requirement already satisfied: typing-extensions<5,>=4.11 in /usr/local/lib/python3.11/dist-packages (from openai) (4.12.2)\n",
            "Requirement already satisfied: idna>=2.8 in /usr/local/lib/python3.11/dist-packages (from anyio<5,>=3.5.0->openai) (3.10)\n",
            "Requirement already satisfied: certifi in /usr/local/lib/python3.11/dist-packages (from httpx<1,>=0.23.0->openai) (2024.12.14)\n",
            "Requirement already satisfied: httpcore==1.* in /usr/local/lib/python3.11/dist-packages (from httpx<1,>=0.23.0->openai) (1.0.7)\n",
            "Requirement already satisfied: h11<0.15,>=0.13 in /usr/local/lib/python3.11/dist-packages (from httpcore==1.*->httpx<1,>=0.23.0->openai) (0.14.0)\n",
            "Requirement already satisfied: annotated-types>=0.6.0 in /usr/local/lib/python3.11/dist-packages (from pydantic<3,>=1.9.0->openai) (0.7.0)\n",
            "Requirement already satisfied: pydantic-core==2.27.2 in /usr/local/lib/python3.11/dist-packages (from pydantic<3,>=1.9.0->openai) (2.27.2)\n"
          ]
        }
      ],
      "source": [
        "!pip install openai==1.59.9"
      ]
    },
    {
      "cell_type": "code",
      "source": [
        "!pip show openai"
      ],
      "metadata": {
        "id": "-ohnBhb5T5ir",
        "outputId": "55a9f9c7-14ca-44ee-8c32-98852be4d3f4",
        "colab": {
          "base_uri": "https://localhost:8080/"
        }
      },
      "id": "-ohnBhb5T5ir",
      "execution_count": 3,
      "outputs": [
        {
          "output_type": "stream",
          "name": "stdout",
          "text": [
            "Name: openai\n",
            "Version: 1.59.9\n",
            "Summary: The official Python library for the openai API\n",
            "Home-page: https://github.com/openai/openai-python\n",
            "Author: \n",
            "Author-email: OpenAI <support@openai.com>\n",
            "License: \n",
            "Location: /usr/local/lib/python3.11/dist-packages\n",
            "Requires: anyio, distro, httpx, jiter, pydantic, sniffio, tqdm, typing-extensions\n",
            "Required-by: \n"
          ]
        }
      ]
    },
    {
      "cell_type": "code",
      "source": [
        "from openai import Client\n",
        "\n",
        "# 设置OpenAI API密钥\n",
        "# openai.api_key = 'your-api-key'\n",
        "\n",
        "# 定义CO-STAR框架的提示词\n",
        "prompt = \"\"\"\n",
        "# 背景 #\n",
        "我公司名为SweetBake，推出了一款名为GoldenCrust的新型家用面包机。该产品主打一键式操作和多种烘焙模式，目标市场为家庭主妇和烘焙爱好者。\n",
        "\n",
        "# 目标 #\n",
        "生成一篇Instagram广告文案，旨在吸引用户点击产品链接并购买。\n",
        "\n",
        "# 风格 #\n",
        "模仿知名烘焙博主的美食分享风格。\n",
        "\n",
        "# 语气 #\n",
        "亲切且富有感染力。\n",
        "\n",
        "# 受众 #\n",
        "目标受众为家庭主妇和烘焙爱好者，他们对简单易用的家用烘焙设备感兴趣。\n",
        "\n",
        "# 响应格式 #\n",
        "生成一篇简洁且有吸引力的Instagram广告文案。\n",
        "\"\"\"\n",
        "\n",
        "# DeepSeek API调用\n",
        "client = Client(\n",
        "    api_key=\"sk-0b21b39bd4364519b034b6feae392169\",\n",
        "    base_url=\"https://api.deepseek.com/beta\"\n",
        ")\n",
        "\n",
        "response = client.completions.create(\n",
        "    model=\"deepseek-chat\",\n",
        "    prompt=prompt,\n",
        "    max_tokens=150\n",
        ")\n",
        "\n",
        "# 输出生成的文案\n",
        "print(response.choices[0].text.strip())"
      ],
      "metadata": {
        "id": "YUwSdYkdTwUT",
        "outputId": "1b54ccc5-b66c-443d-ed5c-d36c4928e372",
        "colab": {
          "base_uri": "https://localhost:8080/"
        }
      },
      "id": "YUwSdYkdTwUT",
      "execution_count": 7,
      "outputs": [
        {
          "output_type": "stream",
          "name": "stdout",
          "text": [
            "```\n",
            "🍞✨ 刚出炉的面包香气，现在就在你家厨房！✨🍞\n",
            "\n",
            "姐妹们，我发现了烘焙界的神器！👩‍🍳 这款GoldenCrust面包机简直就是懒人福音，一键搞定各种美味面包，再也不用担心揉面揉到手酸啦！💪\n",
            "\n",
            "🌟 多种烘焙模式，满足你所有口味需求\n",
            "🌟 智能控温，外酥里嫩，完美口感\n",
            "🌟 超静音设计，深夜烘焙也不怕吵醒家人\n",
            "\n",
            "💖 特别适合像我这样的烘焙小白，操作简单到连说明书都不用看！😉\n",
            "\n",
            "👉 点击链接，把这份温暖带回家！现在下单还有限时优惠哦～🎁\n",
            "\n",
            "#家庭\n"
          ]
        }
      ]
    },
    {
      "cell_type": "code",
      "source": [],
      "metadata": {
        "id": "-RyO2srST26e"
      },
      "id": "-RyO2srST26e",
      "execution_count": null,
      "outputs": []
    }
  ],
  "metadata": {
    "kernelspec": {
      "display_name": "Python 3",
      "language": "python",
      "name": "python3"
    },
    "language_info": {
      "codemirror_mode": {
        "name": "ipython",
        "version": 2
      },
      "file_extension": ".py",
      "mimetype": "text/x-python",
      "name": "python",
      "nbconvert_exporter": "python",
      "pygments_lexer": "ipython2",
      "version": "2.7.6"
    },
    "colab": {
      "provenance": [],
      "include_colab_link": true
    }
  },
  "nbformat": 4,
  "nbformat_minor": 5
}